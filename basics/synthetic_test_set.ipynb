{
 "cells": [
  {
   "cell_type": "code",
   "execution_count": 1,
   "metadata": {},
   "outputs": [],
   "source": [
    "from dotenv import load_dotenv\n",
    "import pandas as pd\n",
    "import os\n",
    "from tqdm import tqdm\n",
    "import time \n",
    "from ragas.testset.generator import TestsetGenerator\n",
    "from ragas.testset.evolutions import simple, reasoning, multi_context\n",
    "from langchain_openai import ChatOpenAI, OpenAIEmbeddings\n",
    "from langchain_community.document_loaders import DirectoryLoader\n",
    "\n",
    "\n",
    "load_dotenv()\n",
    "\n",
    "OPENAI_API_KEY = os.getenv(\"OPENAI_API_KEY\")"
   ]
  },
  {
   "cell_type": "code",
   "execution_count": 3,
   "metadata": {},
   "outputs": [],
   "source": [
    "loader = DirectoryLoader(\"../data/documents\")\n",
    "documents = loader.load()"
   ]
  },
  {
   "cell_type": "code",
   "execution_count": 4,
   "metadata": {},
   "outputs": [],
   "source": [
    "# generator with openai models\n",
    "generator_llm = ChatOpenAI(model=\"gpt-4o-mini\")#\"gpt-3.5-turbo-16k\")\n",
    "critic_llm = ChatOpenAI(model=\"gpt-4o-mini\")\n",
    "embeddings = OpenAIEmbeddings()\n",
    "\n",
    "generator = TestsetGenerator.from_langchain(\n",
    "    generator_llm,\n",
    "    critic_llm,\n",
    "    embeddings\n",
    ")"
   ]
  },
  {
   "cell_type": "code",
   "execution_count": 5,
   "metadata": {},
   "outputs": [
    {
     "data": {
      "application/vnd.jupyter.widget-view+json": {
       "model_id": "09f9b58327a44ab09ebfdfe5e09cf4f7",
       "version_major": 2,
       "version_minor": 0
      },
      "text/plain": [
       "embedding nodes:   0%|          | 0/12 [00:00<?, ?it/s]"
      ]
     },
     "metadata": {},
     "output_type": "display_data"
    },
    {
     "name": "stderr",
     "output_type": "stream",
     "text": [
      "Filename and doc_id are the same for all nodes.\n"
     ]
    },
    {
     "data": {
      "application/vnd.jupyter.widget-view+json": {
       "model_id": "4dd142e391e246f0bfdd35673fd7cb5a",
       "version_major": 2,
       "version_minor": 0
      },
      "text/plain": [
       "Generating:   0%|          | 0/10 [00:00<?, ?it/s]"
      ]
     },
     "metadata": {},
     "output_type": "display_data"
    },
    {
     "name": "stdout",
     "output_type": "stream",
     "text": [
      "                                            question  \\\n",
      "0  What are the guidelines for caring for a joey ...   \n",
      "1  What is the significance of the Red Kangaroo w...   \n",
      "2  What is the process of wildlife rehabilitation...   \n",
      "3  What characteristics define aquatic birds, spe...   \n",
      "4  What are the characteristics of birds in the A...   \n",
      "\n",
      "                                            contexts  \\\n",
      "0  [ case of a fatality from a kangaroo attack oc...   \n",
      "1  [kangaroo\\n\\nA kangaroo is a marsupial from th...   \n",
      "2  [ case of a fatality from a kangaroo attack oc...   \n",
      "3  [duck\\n\\nDuck is the common name for a number ...   \n",
      "4  [duck\\n\\nDuck is the common name for a number ...   \n",
      "\n",
      "                                        ground_truth evolution_type  \\\n",
      "0  After a collision involving its mother, if a f...         simple   \n",
      "1  The significance of the Red Kangaroo within th...         simple   \n",
      "2  The process of wildlife rehabilitation for inj...         simple   \n",
      "3  Ducks are primarily aquatic birds that are mos...         simple   \n",
      "4  Birds in the Anatidae family, commonly known a...         simple   \n",
      "\n",
      "                                            metadata  episode_done  \n",
      "0  [{'source': '../data/documents/S08_set1_a1.txt...          True  \n",
      "1  [{'source': '../data/documents/S08_set1_a1.txt...          True  \n",
      "2  [{'source': '../data/documents/S08_set1_a1.txt...          True  \n",
      "3  [{'source': '../data/documents/S08_set1_a10.tx...          True  \n",
      "4  [{'source': '../data/documents/S08_set1_a10.tx...          True  \n"
     ]
    }
   ],
   "source": [
    "# generate testset\n",
    "testset = generator.generate_with_langchain_docs(documents, test_size=10, distributions={simple: 0.5, reasoning: 0.25, multi_context: 0.25})\n",
    "\n",
    "df_testset = testset.to_pandas()\n",
    "\n",
    "print(df_testset.head())"
   ]
  },
  {
   "cell_type": "code",
   "execution_count": null,
   "metadata": {},
   "outputs": [],
   "source": [
    "from datasets import load_dataset\n",
    "\n",
    "# loading the V2 dataset\n",
    "amnesty_qa = load_dataset(\"explodinggradients/amnesty_qa\", \"english_v2\")\n",
    "amnesty_qa"
   ]
  },
  {
   "cell_type": "code",
   "execution_count": null,
   "metadata": {},
   "outputs": [],
   "source": [
    "from ragas.metrics import (\n",
    "    answer_relevancy,\n",
    "    faithfulness,\n",
    "    context_recall,\n",
    "    context_precision,\n",
    ")"
   ]
  },
  {
   "cell_type": "code",
   "execution_count": null,
   "metadata": {},
   "outputs": [],
   "source": []
  }
 ],
 "metadata": {
  "kernelspec": {
   "display_name": "Python 3",
   "language": "python",
   "name": "python3"
  },
  "language_info": {
   "codemirror_mode": {
    "name": "ipython",
    "version": 3
   },
   "file_extension": ".py",
   "mimetype": "text/x-python",
   "name": "python",
   "nbconvert_exporter": "python",
   "pygments_lexer": "ipython3",
   "version": "3.12.5"
  }
 },
 "nbformat": 4,
 "nbformat_minor": 2
}
